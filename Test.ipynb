{
 "cells": [
  {
   "cell_type": "code",
   "execution_count": null,
   "id": "546845fe",
   "metadata": {},
   "outputs": [],
   "source": [
    "# notebooks/test_prompts.ipynb\n",
    "\n",
    "# Step 1: Imports\n",
    "import openai\n",
    "from pathlib import Path\n",
    "\n",
    "# Load your API key (make sure it's in your environment)\n",
    "openai.api_key = \"sk-...\""
   ]
  },
  {
   "cell_type": "code",
   "execution_count": null,
   "id": "3d18ee0f",
   "metadata": {},
   "outputs": [],
   "source": [
    "\n",
    "\n",
    "# Step 2: Load prompt template\n",
    "prompt_template = Path(\"../prompts/architecture_review_prompt.txt\").read_text()"
   ]
  },
  {
   "cell_type": "code",
   "execution_count": null,
   "id": "96b9a33e",
   "metadata": {},
   "outputs": [],
   "source": [
    "\n",
    "\n",
    "# Step 3: Load sample architecture input\n",
    "sample_text = Path(\"../data/sample_architectures.md\").read_text()\n",
    "\n",
    "# Optional: clean it using the helper\n",
    "from src.format_architecture_input import load_and_clean_input\n",
    "cleaned_input = load_and_clean_input(\"../data/sample_architectures.md\")"
   ]
  },
  {
   "cell_type": "code",
   "execution_count": null,
   "id": "b3901423",
   "metadata": {},
   "outputs": [],
   "source": [
    "\n",
    "\n",
    "# Step 4: Build final prompt\n",
    "final_prompt = prompt_template.replace(\"{ARCHITECTURE_TEXT}\", cleaned_input)\n",
    "print(\"✅ Final Prompt:\\n\", final_prompt[:800])  # Truncated print\n"
   ]
  },
  {
   "cell_type": "code",
   "execution_count": null,
   "id": "09274cfb",
   "metadata": {},
   "outputs": [],
   "source": [
    "\n",
    "# Step 5: Call OpenAI API\n",
    "response = openai.ChatCompletion.create(\n",
    "    model=\"gpt-3.5-turbo\",\n",
    "    messages=[\n",
    "        {\"role\": \"system\", \"content\": \"You are a senior vehicle systems engineer.\"},\n",
    "        {\"role\": \"user\", \"content\": final_prompt}\n",
    "    ],\n",
    "    temperature=0.5,\n",
    "    max_tokens=700\n",
    ")\n"
   ]
  },
  {
   "cell_type": "code",
   "execution_count": null,
   "id": "eadd9749",
   "metadata": {},
   "outputs": [],
   "source": [
    "\n",
    "# Step 6: Show result\n",
    "print(\"\\n🔍 LLM Output:\\n\")\n",
    "print(response['choices'][0]['message']['content'])\n"
   ]
  }
 ],
 "metadata": {
  "kernelspec": {
   "display_name": "llms",
   "language": "python",
   "name": "python3"
  },
  "language_info": {
   "name": "python",
   "version": "3.11.12"
  }
 },
 "nbformat": 4,
 "nbformat_minor": 5
}
